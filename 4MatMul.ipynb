{
  "nbformat": 4,
  "nbformat_minor": 0,
  "metadata": {
    "colab": {
      "provenance": []
    },
    "kernelspec": {
      "name": "python3",
      "display_name": "Python 3"
    },
    "language_info": {
      "name": "python"
    }
  },
  "cells": [
    {
      "cell_type": "code",
      "execution_count": null,
      "metadata": {
        "colab": {
          "base_uri": "https://localhost:8080/"
        },
        "id": "V2odreD5bHio",
        "outputId": "f88450ec-06d6-4208-9bcf-634ad4555ccf"
      },
      "outputs": [
        {
          "output_type": "stream",
          "name": "stdout",
          "text": [
            "Collecting cupy-cuda11x\n",
            "  Downloading cupy_cuda11x-13.4.1-cp311-cp311-manylinux2014_x86_64.whl.metadata (2.7 kB)\n",
            "Requirement already satisfied: numpy<2.3,>=1.22 in /usr/local/lib/python3.11/dist-packages (from cupy-cuda11x) (2.0.2)\n",
            "Requirement already satisfied: fastrlock>=0.5 in /usr/local/lib/python3.11/dist-packages (from cupy-cuda11x) (0.8.3)\n",
            "Downloading cupy_cuda11x-13.4.1-cp311-cp311-manylinux2014_x86_64.whl (100.0 MB)\n",
            "\u001b[2K   \u001b[90m━━━━━━━━━━━━━━━━━━━━━━━━━━━━━━━━━━━━━━━━\u001b[0m \u001b[32m100.0/100.0 MB\u001b[0m \u001b[31m8.8 MB/s\u001b[0m eta \u001b[36m0:00:00\u001b[0m\n",
            "\u001b[?25hInstalling collected packages: cupy-cuda11x\n",
            "Successfully installed cupy-cuda11x-13.4.1\n"
          ]
        }
      ],
      "source": [
        "!pip install cupy-cuda11x"
      ]
    },
    {
      "cell_type": "code",
      "source": [
        "USE_GPU = False\n",
        "\n",
        "if USE_GPU:\n",
        "    import cupy as xp\n",
        "else:\n",
        "    import numpy as xp\n",
        "\n",
        "# User Input\n",
        "N = int(input(\"Enter size of vector/matrix (N): \"))\n",
        "\n",
        "# Input Vectors\n",
        "print(\"Enter elements for Vector A:\")\n",
        "A = xp.array([int(input(f\"A[{i}]: \")) for i in range(N)])\n",
        "print(\"Enter elements for Vector B:\")\n",
        "B = xp.array([int(input(f\"B[{i}]: \")) for i in range(N)])\n",
        "\n",
        "# Vector Addition\n",
        "C = A + B\n",
        "\n",
        "print(\"\\nVector A:\", A)\n",
        "print(\"Vector B:\", B)\n",
        "print(\"Addition (A + B):\", C)\n",
        "\n",
        "# Input Matrices\n",
        "print(\"\\nEnter elements for Matrix D:\")\n",
        "D = xp.zeros((N, N), dtype=int)\n",
        "for i in range(N):\n",
        "    for j in range(N):\n",
        "        D[i, j] = int(input(f\"D[{i}][{j}]: \"))\n",
        "\n",
        "print(\"Enter elements for Matrix E:\")\n",
        "E = xp.zeros((N, N), dtype=int)\n",
        "for i in range(N):\n",
        "    for j in range(N):\n",
        "        E[i, j] = int(input(f\"E[{i}][{j}]: \"))\n",
        "\n",
        "# Matrix Multiplication\n",
        "F = D @ E\n",
        "\n",
        "print(\"\\nMatrix D:\")\n",
        "print(D)\n",
        "\n",
        "print(\"\\nMatrix E:\")\n",
        "print(E)\n",
        "\n",
        "print(\"\\nMultiplication Result (D x E):\")\n",
        "print(F)"
      ],
      "metadata": {
        "colab": {
          "base_uri": "https://localhost:8080/"
        },
        "id": "De3-K0x7cEn5",
        "outputId": "d067e318-1eb2-4d06-f3c2-e7fbb5a86d42"
      },
      "execution_count": 3,
      "outputs": [
        {
          "output_type": "stream",
          "name": "stdout",
          "text": [
            "Enter size of vector/matrix (N): 2\n",
            "Enter elements for Vector A:\n",
            "A[0]: 2\n",
            "A[1]: 5\n",
            "Enter elements for Vector B:\n",
            "B[0]: 4\n",
            "B[1]: 3\n",
            "\n",
            "Vector A: [2 5]\n",
            "Vector B: [4 3]\n",
            "Addition (A + B): [6 8]\n",
            "\n",
            "Enter elements for Matrix D:\n",
            "D[0][0]: 1\n",
            "D[0][1]: 5\n",
            "D[1][0]: 2\n",
            "D[1][1]: 3\n",
            "Enter elements for Matrix E:\n",
            "E[0][0]: 5\n",
            "E[0][1]: 8\n",
            "E[1][0]: 3\n",
            "E[1][1]: 1\n",
            "\n",
            "Matrix D:\n",
            "[[1 5]\n",
            " [2 3]]\n",
            "\n",
            "Matrix E:\n",
            "[[5 8]\n",
            " [3 1]]\n",
            "\n",
            "Multiplication Result (D x E):\n",
            "[[20 13]\n",
            " [19 19]]\n"
          ]
        }
      ]
    }
  ]
}